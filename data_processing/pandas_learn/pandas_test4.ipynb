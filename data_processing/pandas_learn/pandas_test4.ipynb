{
 "cells": [
  {
   "cell_type": "markdown",
   "source": [
    "剧组表格道具案例"
   ],
   "metadata": {
    "collapsed": false
   },
   "id": "b376e9e281e6c09e"
  },
  {
   "cell_type": "code",
   "execution_count": 4,
   "outputs": [
    {
     "data": {
      "text/plain": "  客户姓名  年龄       最后去电时间 意向       地址\n0   皮云  35  2023年12月31日  无     王路K座\n1  蒋海燕  38  2023年07月20日  无  乌鲁木齐路X座\n2   马想  35  2023年04月24日  有    佛山路o座\n3  罗建军  31  2023年09月16日  无     刘路X座\n4  陈淑华  30  2023年02月11日  无    海口街F座\n5   何莹  36  2023年05月18日  无     李街g座\n6   高超  37  2023年02月02日  有     曾路S座\n7   何涛  31  2023年10月31日  有    太原街J座\n8  毛丽华  26  2023年10月12日  无    东莞街x座\n9  阚凤英  33  2023年04月08日  有    深圳街u座",
      "text/html": "<div>\n<style scoped>\n    .dataframe tbody tr th:only-of-type {\n        vertical-align: middle;\n    }\n\n    .dataframe tbody tr th {\n        vertical-align: top;\n    }\n\n    .dataframe thead th {\n        text-align: right;\n    }\n</style>\n<table border=\"1\" class=\"dataframe\">\n  <thead>\n    <tr style=\"text-align: right;\">\n      <th></th>\n      <th>客户姓名</th>\n      <th>年龄</th>\n      <th>最后去电时间</th>\n      <th>意向</th>\n      <th>地址</th>\n    </tr>\n  </thead>\n  <tbody>\n    <tr>\n      <th>0</th>\n      <td>皮云</td>\n      <td>35</td>\n      <td>2023年12月31日</td>\n      <td>无</td>\n      <td>王路K座</td>\n    </tr>\n    <tr>\n      <th>1</th>\n      <td>蒋海燕</td>\n      <td>38</td>\n      <td>2023年07月20日</td>\n      <td>无</td>\n      <td>乌鲁木齐路X座</td>\n    </tr>\n    <tr>\n      <th>2</th>\n      <td>马想</td>\n      <td>35</td>\n      <td>2023年04月24日</td>\n      <td>有</td>\n      <td>佛山路o座</td>\n    </tr>\n    <tr>\n      <th>3</th>\n      <td>罗建军</td>\n      <td>31</td>\n      <td>2023年09月16日</td>\n      <td>无</td>\n      <td>刘路X座</td>\n    </tr>\n    <tr>\n      <th>4</th>\n      <td>陈淑华</td>\n      <td>30</td>\n      <td>2023年02月11日</td>\n      <td>无</td>\n      <td>海口街F座</td>\n    </tr>\n    <tr>\n      <th>5</th>\n      <td>何莹</td>\n      <td>36</td>\n      <td>2023年05月18日</td>\n      <td>无</td>\n      <td>李街g座</td>\n    </tr>\n    <tr>\n      <th>6</th>\n      <td>高超</td>\n      <td>37</td>\n      <td>2023年02月02日</td>\n      <td>有</td>\n      <td>曾路S座</td>\n    </tr>\n    <tr>\n      <th>7</th>\n      <td>何涛</td>\n      <td>31</td>\n      <td>2023年10月31日</td>\n      <td>有</td>\n      <td>太原街J座</td>\n    </tr>\n    <tr>\n      <th>8</th>\n      <td>毛丽华</td>\n      <td>26</td>\n      <td>2023年10月12日</td>\n      <td>无</td>\n      <td>东莞街x座</td>\n    </tr>\n    <tr>\n      <th>9</th>\n      <td>阚凤英</td>\n      <td>33</td>\n      <td>2023年04月08日</td>\n      <td>有</td>\n      <td>深圳街u座</td>\n    </tr>\n  </tbody>\n</table>\n</div>"
     },
     "execution_count": 4,
     "metadata": {},
     "output_type": "execute_result"
    }
   ],
   "source": [
    "import pandas as pd\n",
    "import faker\n",
    "\n",
    "f = faker.Faker('zh-cn')\n",
    "df = pd.DataFrame({\n",
    "    '客户姓名': [f.name() for i in range(10)],\n",
    "    '年龄': [f.random_int(25, 40) for j in range(10)],\n",
    "    '最后去电时间': [f.date_between(start_date='-1y', end_date='today').strftime('%Y年%m月%d日') for k in range(10)],\n",
    "    '意向': [f.random_element(('有', '无')) for z in range(10)],\n",
    "    '地址': [f.street_address() for x in range(10)]\n",
    "})\n",
    "df"
   ],
   "metadata": {
    "collapsed": true,
    "ExecuteTime": {
     "end_time": "2024-01-11T03:29:19.125392600Z",
     "start_time": "2024-01-11T03:29:19.069385Z"
    }
   },
   "id": "initial_id"
  },
  {
   "cell_type": "code",
   "execution_count": 5,
   "outputs": [],
   "source": [
    "# 生成Excel文件\n",
    "df.to_excel('../../export/客户资料表.xlsx')"
   ],
   "metadata": {
    "collapsed": false,
    "ExecuteTime": {
     "end_time": "2024-01-11T03:30:33.417626100Z",
     "start_time": "2024-01-11T03:30:33.258297Z"
    }
   },
   "id": "f80edbff4b2fe1c1"
  },
  {
   "cell_type": "code",
   "execution_count": null,
   "outputs": [],
   "source": [],
   "metadata": {
    "collapsed": false
   },
   "id": "c50e1330837d1f79"
  }
 ],
 "metadata": {
  "kernelspec": {
   "display_name": "Python 3",
   "language": "python",
   "name": "python3"
  },
  "language_info": {
   "codemirror_mode": {
    "name": "ipython",
    "version": 2
   },
   "file_extension": ".py",
   "mimetype": "text/x-python",
   "name": "python",
   "nbconvert_exporter": "python",
   "pygments_lexer": "ipython2",
   "version": "2.7.6"
  }
 },
 "nbformat": 4,
 "nbformat_minor": 5
}
