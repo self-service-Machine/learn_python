{
 "cells": [
  {
   "cell_type": "code",
   "execution_count": 1,
   "id": "initial_id",
   "metadata": {
    "collapsed": true,
    "ExecuteTime": {
     "end_time": "2024-01-11T01:05:59.910293Z",
     "start_time": "2024-01-11T01:05:59.611774500Z"
    }
   },
   "outputs": [],
   "source": [
    "import pandas as pd\n",
    "import numpy as np"
   ]
  },
  {
   "cell_type": "markdown",
   "source": [
    "## 创建数据"
   ],
   "metadata": {
    "collapsed": false
   },
   "id": "3ab067f2a1aa6668"
  },
  {
   "cell_type": "markdown",
   "source": [
    "### 生成DataFrame\n",
    "> df = pd.DataFrame(data=None, index=None, columns=None)\n",
    "columns： 列索引、表头\n",
    "- 字典生成\n",
    "- Series生成"
   ],
   "metadata": {
    "collapsed": false
   },
   "id": "a72b020f87b36656"
  },
  {
   "cell_type": "code",
   "execution_count": 2,
   "outputs": [],
   "source": [
    "df = pd.DataFrame({\n",
    "    '国家': ['中国', '美国', '日本'],\n",
    "    '地区': ['亚洲', '北美', '亚洲'],\n",
    "    '人口': [13.97, 3.28, 1.26],\n",
    "    'GDP': [14.34, 21.43, 5.08]\n",
    "})"
   ],
   "metadata": {
    "collapsed": false,
    "ExecuteTime": {
     "end_time": "2024-01-11T01:10:18.617689900Z",
     "start_time": "2024-01-11T01:10:18.599571500Z"
    }
   },
   "id": "332422b0a3254b94"
  },
  {
   "cell_type": "code",
   "execution_count": 3,
   "outputs": [
    {
     "data": {
      "text/plain": "   国家  地区     人口    GDP\n0  中国  亚洲  13.97  14.34\n1  美国  北美   3.28  21.43\n2  日本  亚洲   1.26   5.08",
      "text/html": "<div>\n<style scoped>\n    .dataframe tbody tr th:only-of-type {\n        vertical-align: middle;\n    }\n\n    .dataframe tbody tr th {\n        vertical-align: top;\n    }\n\n    .dataframe thead th {\n        text-align: right;\n    }\n</style>\n<table border=\"1\" class=\"dataframe\">\n  <thead>\n    <tr style=\"text-align: right;\">\n      <th></th>\n      <th>国家</th>\n      <th>地区</th>\n      <th>人口</th>\n      <th>GDP</th>\n    </tr>\n  </thead>\n  <tbody>\n    <tr>\n      <th>0</th>\n      <td>中国</td>\n      <td>亚洲</td>\n      <td>13.97</td>\n      <td>14.34</td>\n    </tr>\n    <tr>\n      <th>1</th>\n      <td>美国</td>\n      <td>北美</td>\n      <td>3.28</td>\n      <td>21.43</td>\n    </tr>\n    <tr>\n      <th>2</th>\n      <td>日本</td>\n      <td>亚洲</td>\n      <td>1.26</td>\n      <td>5.08</td>\n    </tr>\n  </tbody>\n</table>\n</div>"
     },
     "execution_count": 3,
     "metadata": {},
     "output_type": "execute_result"
    }
   ],
   "source": [
    "df"
   ],
   "metadata": {
    "collapsed": false,
    "ExecuteTime": {
     "end_time": "2024-01-11T01:10:29.911742100Z",
     "start_time": "2024-01-11T01:10:29.894337200Z"
    }
   },
   "id": "5ca1e2a6f2a1494b"
  },
  {
   "cell_type": "code",
   "execution_count": 4,
   "outputs": [
    {
     "data": {
      "text/plain": "     A          B    C  D      E    F\n0  1.0 2013-01-02  1.0  3   test  foo\n1  1.0 2013-01-02  1.0  3  train  foo\n2  1.0 2013-01-02  1.0  3   test  foo\n3  1.0 2013-01-02  1.0  3  train  foo",
      "text/html": "<div>\n<style scoped>\n    .dataframe tbody tr th:only-of-type {\n        vertical-align: middle;\n    }\n\n    .dataframe tbody tr th {\n        vertical-align: top;\n    }\n\n    .dataframe thead th {\n        text-align: right;\n    }\n</style>\n<table border=\"1\" class=\"dataframe\">\n  <thead>\n    <tr style=\"text-align: right;\">\n      <th></th>\n      <th>A</th>\n      <th>B</th>\n      <th>C</th>\n      <th>D</th>\n      <th>E</th>\n      <th>F</th>\n    </tr>\n  </thead>\n  <tbody>\n    <tr>\n      <th>0</th>\n      <td>1.0</td>\n      <td>2013-01-02</td>\n      <td>1.0</td>\n      <td>3</td>\n      <td>test</td>\n      <td>foo</td>\n    </tr>\n    <tr>\n      <th>1</th>\n      <td>1.0</td>\n      <td>2013-01-02</td>\n      <td>1.0</td>\n      <td>3</td>\n      <td>train</td>\n      <td>foo</td>\n    </tr>\n    <tr>\n      <th>2</th>\n      <td>1.0</td>\n      <td>2013-01-02</td>\n      <td>1.0</td>\n      <td>3</td>\n      <td>test</td>\n      <td>foo</td>\n    </tr>\n    <tr>\n      <th>3</th>\n      <td>1.0</td>\n      <td>2013-01-02</td>\n      <td>1.0</td>\n      <td>3</td>\n      <td>train</td>\n      <td>foo</td>\n    </tr>\n  </tbody>\n</table>\n</div>"
     },
     "execution_count": 4,
     "metadata": {},
     "output_type": "execute_result"
    }
   ],
   "source": [
    "df2 = pd.DataFrame({\n",
    "    'A': 1.,\n",
    "    'B': pd.Timestamp('20130102'),\n",
    "    'C': pd.Series(1, index=list(range(4)), dtype='float32'),\n",
    "    'D': np.array([3] * 4, dtype='int32'),\n",
    "    'E': pd.Categorical(['test', 'train', 'test', 'train']),\n",
    "    'F': 'foo'\n",
    "})\n",
    "\n",
    "df2"
   ],
   "metadata": {
    "collapsed": false,
    "ExecuteTime": {
     "end_time": "2024-01-11T01:16:31.924538100Z",
     "start_time": "2024-01-11T01:16:31.908428600Z"
    }
   },
   "id": "b7644711d214ded2"
  },
  {
   "cell_type": "code",
   "execution_count": 5,
   "outputs": [
    {
     "data": {
      "text/plain": "0    13.97\n1     3.28\n2     1.26\nName: 人口, dtype: float64"
     },
     "execution_count": 5,
     "metadata": {},
     "output_type": "execute_result"
    }
   ],
   "source": [
    "df['人口']"
   ],
   "metadata": {
    "collapsed": false,
    "ExecuteTime": {
     "end_time": "2024-01-11T01:17:17.263120900Z",
     "start_time": "2024-01-11T01:17:17.251952400Z"
    }
   },
   "id": "85b03e6c756d7196"
  },
  {
   "cell_type": "code",
   "execution_count": 6,
   "outputs": [
    {
     "data": {
      "text/plain": "0    14.34\n1    21.43\n2     5.08\nName: gdp, dtype: float64"
     },
     "execution_count": 6,
     "metadata": {},
     "output_type": "execute_result"
    }
   ],
   "source": [
    "s = pd.Series([14.34, 21.43, 5.08], name='gdp')\n",
    "s"
   ],
   "metadata": {
    "collapsed": false,
    "ExecuteTime": {
     "end_time": "2024-01-11T01:18:00.785098400Z",
     "start_time": "2024-01-11T01:18:00.772030800Z"
    }
   },
   "id": "ed21d34642868f2e"
  },
  {
   "cell_type": "markdown",
   "source": [
    "### 生成Series\n",
    "\n",
    "> s = pd.Series(data, index=index)\n",
    "\n",
    "- 使用列表和元组直接放入pd.Series()\n",
    "- 使用ndarry\n",
    "- 使用字典\n",
    "- 使用标量"
   ],
   "metadata": {
    "collapsed": false
   },
   "id": "b482fc7787aeb70f"
  },
  {
   "cell_type": "code",
   "execution_count": 7,
   "outputs": [
    {
     "data": {
      "text/plain": "0    13.97\n1     3.28\n2     1.26\ndtype: float64"
     },
     "execution_count": 7,
     "metadata": {},
     "output_type": "execute_result"
    }
   ],
   "source": [
    "s = pd.Series([13.97, 3.28, 1.26])\n",
    "# s = pd.Series((13.97, 3.28, 1.26))\n",
    "s"
   ],
   "metadata": {
    "collapsed": false,
    "ExecuteTime": {
     "end_time": "2024-01-11T01:25:10.566506Z",
     "start_time": "2024-01-11T01:25:10.546347200Z"
    }
   },
   "id": "50fc0af77a45ae4b"
  },
  {
   "cell_type": "code",
   "execution_count": 8,
   "outputs": [
    {
     "data": {
      "text/plain": "Index(['a', 'b', 'c', 'd', 'e'], dtype='object')"
     },
     "execution_count": 8,
     "metadata": {},
     "output_type": "execute_result"
    }
   ],
   "source": [
    "s = pd.Series(np.random.random(5), index=['a', 'b', 'c', 'd', 'e'])\n",
    "# 查看索引\n",
    "s.index"
   ],
   "metadata": {
    "collapsed": false,
    "ExecuteTime": {
     "end_time": "2024-01-11T01:26:40.779995100Z",
     "start_time": "2024-01-11T01:26:40.759853400Z"
    }
   },
   "id": "f91f6ce3d8691c4b"
  },
  {
   "cell_type": "code",
   "execution_count": 9,
   "outputs": [
    {
     "data": {
      "text/plain": "0    0.402839\n1    0.903817\n2    0.277295\n3    0.593740\n4    0.242490\ndtype: float64"
     },
     "execution_count": 9,
     "metadata": {},
     "output_type": "execute_result"
    }
   ],
   "source": [
    "# 不指定索引\n",
    "s = pd.Series(np.random.random(5))\n",
    "s"
   ],
   "metadata": {
    "collapsed": false,
    "ExecuteTime": {
     "end_time": "2024-01-11T01:26:46.939252100Z",
     "start_time": "2024-01-11T01:26:46.923175100Z"
    }
   },
   "id": "d8095d6fb289942c"
  }
 ],
 "metadata": {
  "kernelspec": {
   "display_name": "Python 3",
   "language": "python",
   "name": "python3"
  },
  "language_info": {
   "codemirror_mode": {
    "name": "ipython",
    "version": 2
   },
   "file_extension": ".py",
   "mimetype": "text/x-python",
   "name": "python",
   "nbconvert_exporter": "python",
   "pygments_lexer": "ipython2",
   "version": "2.7.6"
  }
 },
 "nbformat": 4,
 "nbformat_minor": 5
}
