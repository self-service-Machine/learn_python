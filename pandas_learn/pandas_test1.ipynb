{
 "cells": [
  {
   "cell_type": "code",
   "execution_count": 4,
   "id": "initial_id",
   "metadata": {
    "collapsed": true,
    "ExecuteTime": {
     "end_time": "2024-01-07T06:10:31.702606100Z",
     "start_time": "2024-01-07T06:10:31.666703900Z"
    }
   },
   "outputs": [],
   "source": [
    "import pandas as pd\n",
    "\n",
    "# 以下两种效果一样，如果是网址，它会自动将数据下载到内存\n",
    "# df = pd.read_excel('https://www.gairuo.com/file/data/dataset/team.xlsx')\n",
    "# df = pd.read_excel('team.xlsx') # 文件在notebook文件同一目录下\n",
    "# 如果是CSV，使用pd.read_csv()，还支持很多类型的数据读取"
   ]
  },
  {
   "cell_type": "markdown",
   "source": [
    "读取数据\n",
    "使用DataFrame df 读取"
   ],
   "metadata": {
    "collapsed": false
   },
   "id": "d38f7c4f2ad9eb80"
  },
  {
   "cell_type": "code",
   "execution_count": null,
   "outputs": [],
   "source": [
    "df = pd.read_excel('../data/team.xlsx')"
   ],
   "metadata": {
    "collapsed": false
   },
   "id": "a7b7d4349f98757c"
  },
  {
   "cell_type": "code",
   "execution_count": 10,
   "outputs": [
    {
     "data": {
      "text/plain": "        name team  Q1  Q2  Q3  Q4\n0      Liver    E  89  21  24  64\n1       Arry    C  36  37  37  57\n2        Ack    A  57  60  18  84\n3      Eorge    C  93  96  71  78\n4        Oah    D  65  49  61  86\n..       ...  ...  ..  ..  ..  ..\n95   Gabriel    C  48  59  87  74\n96   Austin7    C  21  31  30  43\n97  Lincoln4    C  98  93   1  20\n98       Eli    E  11  74  58  91\n99       Ben    E  21  43  41  74\n\n[100 rows x 6 columns]",
      "text/html": "<div>\n<style scoped>\n    .dataframe tbody tr th:only-of-type {\n        vertical-align: middle;\n    }\n\n    .dataframe tbody tr th {\n        vertical-align: top;\n    }\n\n    .dataframe thead th {\n        text-align: right;\n    }\n</style>\n<table border=\"1\" class=\"dataframe\">\n  <thead>\n    <tr style=\"text-align: right;\">\n      <th></th>\n      <th>name</th>\n      <th>team</th>\n      <th>Q1</th>\n      <th>Q2</th>\n      <th>Q3</th>\n      <th>Q4</th>\n    </tr>\n  </thead>\n  <tbody>\n    <tr>\n      <th>0</th>\n      <td>Liver</td>\n      <td>E</td>\n      <td>89</td>\n      <td>21</td>\n      <td>24</td>\n      <td>64</td>\n    </tr>\n    <tr>\n      <th>1</th>\n      <td>Arry</td>\n      <td>C</td>\n      <td>36</td>\n      <td>37</td>\n      <td>37</td>\n      <td>57</td>\n    </tr>\n    <tr>\n      <th>2</th>\n      <td>Ack</td>\n      <td>A</td>\n      <td>57</td>\n      <td>60</td>\n      <td>18</td>\n      <td>84</td>\n    </tr>\n    <tr>\n      <th>3</th>\n      <td>Eorge</td>\n      <td>C</td>\n      <td>93</td>\n      <td>96</td>\n      <td>71</td>\n      <td>78</td>\n    </tr>\n    <tr>\n      <th>4</th>\n      <td>Oah</td>\n      <td>D</td>\n      <td>65</td>\n      <td>49</td>\n      <td>61</td>\n      <td>86</td>\n    </tr>\n    <tr>\n      <th>...</th>\n      <td>...</td>\n      <td>...</td>\n      <td>...</td>\n      <td>...</td>\n      <td>...</td>\n      <td>...</td>\n    </tr>\n    <tr>\n      <th>95</th>\n      <td>Gabriel</td>\n      <td>C</td>\n      <td>48</td>\n      <td>59</td>\n      <td>87</td>\n      <td>74</td>\n    </tr>\n    <tr>\n      <th>96</th>\n      <td>Austin7</td>\n      <td>C</td>\n      <td>21</td>\n      <td>31</td>\n      <td>30</td>\n      <td>43</td>\n    </tr>\n    <tr>\n      <th>97</th>\n      <td>Lincoln4</td>\n      <td>C</td>\n      <td>98</td>\n      <td>93</td>\n      <td>1</td>\n      <td>20</td>\n    </tr>\n    <tr>\n      <th>98</th>\n      <td>Eli</td>\n      <td>E</td>\n      <td>11</td>\n      <td>74</td>\n      <td>58</td>\n      <td>91</td>\n    </tr>\n    <tr>\n      <th>99</th>\n      <td>Ben</td>\n      <td>E</td>\n      <td>21</td>\n      <td>43</td>\n      <td>41</td>\n      <td>74</td>\n    </tr>\n  </tbody>\n</table>\n<p>100 rows × 6 columns</p>\n</div>"
     },
     "execution_count": 10,
     "metadata": {},
     "output_type": "execute_result"
    }
   ],
   "source": [
    "df"
   ],
   "metadata": {
    "collapsed": false,
    "ExecuteTime": {
     "start_time": "2024-01-07T06:13:05.745685300Z"
    }
   },
   "id": "3b3bd33067800ab8"
  },
  {
   "cell_type": "markdown",
   "source": [
    "查看数据"
   ],
   "metadata": {
    "collapsed": false
   },
   "id": "42502c73a3ffa626"
  },
  {
   "cell_type": "code",
   "execution_count": 12,
   "outputs": [
    {
     "data": {
      "text/plain": "    name team  Q1  Q2  Q3  Q4\n0  Liver    E  89  21  24  64\n1   Arry    C  36  37  37  57\n2    Ack    A  57  60  18  84\n3  Eorge    C  93  96  71  78\n4    Oah    D  65  49  61  86",
      "text/html": "<div>\n<style scoped>\n    .dataframe tbody tr th:only-of-type {\n        vertical-align: middle;\n    }\n\n    .dataframe tbody tr th {\n        vertical-align: top;\n    }\n\n    .dataframe thead th {\n        text-align: right;\n    }\n</style>\n<table border=\"1\" class=\"dataframe\">\n  <thead>\n    <tr style=\"text-align: right;\">\n      <th></th>\n      <th>name</th>\n      <th>team</th>\n      <th>Q1</th>\n      <th>Q2</th>\n      <th>Q3</th>\n      <th>Q4</th>\n    </tr>\n  </thead>\n  <tbody>\n    <tr>\n      <th>0</th>\n      <td>Liver</td>\n      <td>E</td>\n      <td>89</td>\n      <td>21</td>\n      <td>24</td>\n      <td>64</td>\n    </tr>\n    <tr>\n      <th>1</th>\n      <td>Arry</td>\n      <td>C</td>\n      <td>36</td>\n      <td>37</td>\n      <td>37</td>\n      <td>57</td>\n    </tr>\n    <tr>\n      <th>2</th>\n      <td>Ack</td>\n      <td>A</td>\n      <td>57</td>\n      <td>60</td>\n      <td>18</td>\n      <td>84</td>\n    </tr>\n    <tr>\n      <th>3</th>\n      <td>Eorge</td>\n      <td>C</td>\n      <td>93</td>\n      <td>96</td>\n      <td>71</td>\n      <td>78</td>\n    </tr>\n    <tr>\n      <th>4</th>\n      <td>Oah</td>\n      <td>D</td>\n      <td>65</td>\n      <td>49</td>\n      <td>61</td>\n      <td>86</td>\n    </tr>\n  </tbody>\n</table>\n</div>"
     },
     "execution_count": 12,
     "metadata": {},
     "output_type": "execute_result"
    }
   ],
   "source": [
    "# 查看前5条\n",
    "df.head()\n",
    "# 查看后5条\n",
    "# df.tail()\n",
    "# 随机查看5条\n",
    "# df.sample()"
   ],
   "metadata": {
    "collapsed": false,
    "ExecuteTime": {
     "start_time": "2024-01-07T06:15:40.401833700Z"
    }
   },
   "id": "19544c9df74d658e"
  },
  {
   "cell_type": "markdown",
   "source": [
    "验证数据"
   ],
   "metadata": {
    "collapsed": false
   },
   "id": "79da7bad478cf9a3"
  },
  {
   "cell_type": "code",
   "execution_count": 17,
   "outputs": [
    {
     "data": {
      "text/plain": "Index(['name', 'team', 'Q1', 'Q2', 'Q3', 'Q4'], dtype='object')"
     },
     "execution_count": 17,
     "metadata": {},
     "output_type": "execute_result"
    }
   ],
   "source": [
    "# 查看行数和列数\n",
    "# df.shape\n",
    "# 查看所有、数据类型和内存信息\n",
    "# df.info()\n",
    "# 查看数值类型列的汇总统计\n",
    "# df.describe()\n",
    "# 查看各字段类型\n",
    "# df.dtypes\n",
    "# 显示数据行和列名\n",
    "# df.axes\n",
    "# 查看列名\n",
    "df.columns"
   ],
   "metadata": {
    "collapsed": false,
    "ExecuteTime": {
     "end_time": "2024-01-07T06:18:51.802439900Z",
     "start_time": "2024-01-07T06:18:51.785298800Z"
    }
   },
   "id": "1e152bc2988aa4e1"
  },
  {
   "cell_type": "markdown",
   "source": [
    "简历索引"
   ],
   "metadata": {
    "collapsed": false
   },
   "id": "167d1eef78f4d0ca"
  },
  {
   "cell_type": "code",
   "execution_count": null,
   "outputs": [],
   "source": [
    "# 创建索引并生效\n",
    "df.set_index('name', inplace=True)"
   ],
   "metadata": {
    "collapsed": false
   },
   "id": "e2338b5abaf8a5b3"
  }
 ],
 "metadata": {
  "kernelspec": {
   "display_name": "Python 3",
   "language": "python",
   "name": "python3"
  },
  "language_info": {
   "codemirror_mode": {
    "name": "ipython",
    "version": 2
   },
   "file_extension": ".py",
   "mimetype": "text/x-python",
   "name": "python",
   "nbconvert_exporter": "python",
   "pygments_lexer": "ipython2",
   "version": "2.7.6"
  }
 },
 "nbformat": 4,
 "nbformat_minor": 5
}
