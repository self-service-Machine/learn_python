{
 "cells": [
  {
   "cell_type": "code",
   "execution_count": null,
   "id": "initial_id",
   "metadata": {
    "collapsed": true,
    "is_executing": true
   },
   "outputs": [],
   "source": [
    "import pandas as pd\n",
    "\n",
    "# 以下两种效果一样，如果是网址，它会自动将数据下载到内存\n",
    "# df = pd.read_excel('https://www.gairuo.com/file/data/dataset/team.xlsx')\n",
    "# df = pd.read_excel('team.xlsx') # 文件在notebook文件同一目录下\n",
    "# 如果是CSV，使用pd.read_csv()，还支持很多类型的数据读取"
   ]
  },
  {
   "cell_type": "code",
   "execution_count": null,
   "outputs": [],
   "source": [
    "df = pd.read.read_excel('data/team.xlsx')"
   ],
   "metadata": {
    "collapsed": false
   },
   "id": "c031e329a17a62c3"
  }
 ],
 "metadata": {
  "kernelspec": {
   "display_name": "Python 3",
   "language": "python",
   "name": "python3"
  },
  "language_info": {
   "codemirror_mode": {
    "name": "ipython",
    "version": 2
   },
   "file_extension": ".py",
   "mimetype": "text/x-python",
   "name": "python",
   "nbconvert_exporter": "python",
   "pygments_lexer": "ipython2",
   "version": "2.7.6"
  }
 },
 "nbformat": 4,
 "nbformat_minor": 5
}
